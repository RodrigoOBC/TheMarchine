{
 "cells": [
  {
   "cell_type": "code",
   "execution_count": 6,
   "id": "fd02269f",
   "metadata": {},
   "outputs": [],
   "source": [
    "from PIL import Image\n",
    "from os import listdir\n",
    "from os.path import isdir\n",
    "from numpy import asarray, expand_dims\n",
    "import numpy as np\n",
    "import os"
   ]
  },
  {
   "cell_type": "code",
   "execution_count": 2,
   "id": "181827ec",
   "metadata": {},
   "outputs": [],
   "source": [
    "def load_face(filename):\n",
    "    img = Image.open(filename)\n",
    "    img = img.convert(\"RGB\")\n",
    "    \n",
    "    return asarray(img)"
   ]
  },
  {
   "cell_type": "code",
   "execution_count": 15,
   "id": "0e16d6a4",
   "metadata": {},
   "outputs": [],
   "source": [
    "def montar_nome(path):\n",
    "    nome_file = []\n",
    "    file_path = []\n",
    "    x = 0\n",
    "    for p, _, files in os.walk(os.path.abspath(path)):\n",
    "        for file_name in files:\n",
    "            nome_file.append(file_name)\n",
    "            file_path.append(rf'{p}\\{file_name}')\n",
    "    return nome_file, file_path"
   ]
  },
  {
   "cell_type": "code",
   "execution_count": 16,
   "id": "b7c6fe48",
   "metadata": {},
   "outputs": [],
   "source": [
    "def selecionar_classe(nomes):\n",
    "    classe = []\n",
    "    for nome in nomes:\n",
    "        if isdir(nome):\n",
    "            classe.append(nome)\n",
    "    return classe"
   ]
  },
  {
   "cell_type": "code",
   "execution_count": 19,
   "id": "f84825f1",
   "metadata": {},
   "outputs": [
    {
     "data": {
      "text/plain": [
       "['C:\\\\Users\\\\rodrigo.cabral\\\\PycharmProjects\\\\Desafio\\\\WithorWithoutMask\\\\data\\\\faces\\\\Obina\\\\flip-WhatsApp Image 2022-05-15 at 15.28.24.jpeg',\n",
       " 'C:\\\\Users\\\\rodrigo.cabral\\\\PycharmProjects\\\\Desafio\\\\WithorWithoutMask\\\\data\\\\faces\\\\Obina\\\\flip-WhatsApp Image 2022-05-15 at 15.29.06.jpeg',\n",
       " 'C:\\\\Users\\\\rodrigo.cabral\\\\PycharmProjects\\\\Desafio\\\\WithorWithoutMask\\\\data\\\\faces\\\\Obina\\\\flip-WhatsApp Image 2022-05-15 at 15.29.07 (1).jpeg',\n",
       " 'C:\\\\Users\\\\rodrigo.cabral\\\\PycharmProjects\\\\Desafio\\\\WithorWithoutMask\\\\data\\\\faces\\\\Obina\\\\flip-WhatsApp Image 2022-05-15 at 15.29.07.jpeg',\n",
       " 'C:\\\\Users\\\\rodrigo.cabral\\\\PycharmProjects\\\\Desafio\\\\WithorWithoutMask\\\\data\\\\faces\\\\Obina\\\\flip-WhatsApp Image 2022-05-15 at 15.29.28 (1).jpeg',\n",
       " 'C:\\\\Users\\\\rodrigo.cabral\\\\PycharmProjects\\\\Desafio\\\\WithorWithoutMask\\\\data\\\\faces\\\\Obina\\\\flip-WhatsApp Image 2022-05-15 at 15.29.28 (2).jpeg',\n",
       " 'C:\\\\Users\\\\rodrigo.cabral\\\\PycharmProjects\\\\Desafio\\\\WithorWithoutMask\\\\data\\\\faces\\\\Obina\\\\flip-WhatsApp Image 2022-05-15 at 15.29.28.jpeg',\n",
       " 'C:\\\\Users\\\\rodrigo.cabral\\\\PycharmProjects\\\\Desafio\\\\WithorWithoutMask\\\\data\\\\faces\\\\Obina\\\\flip-WhatsApp Image 2022-05-15 at 15.29.29.jpeg',\n",
       " 'C:\\\\Users\\\\rodrigo.cabral\\\\PycharmProjects\\\\Desafio\\\\WithorWithoutMask\\\\data\\\\faces\\\\Obina\\\\flip-WhatsApp Image 2022-05-15 at 15.29.39.jpeg',\n",
       " 'C:\\\\Users\\\\rodrigo.cabral\\\\PycharmProjects\\\\Desafio\\\\WithorWithoutMask\\\\data\\\\faces\\\\Obina\\\\rotate-WhatsApp Image 2022-05-15 at 15.28.24.jpeg',\n",
       " 'C:\\\\Users\\\\rodrigo.cabral\\\\PycharmProjects\\\\Desafio\\\\WithorWithoutMask\\\\data\\\\faces\\\\Obina\\\\rotate-WhatsApp Image 2022-05-15 at 15.29.06.jpeg',\n",
       " 'C:\\\\Users\\\\rodrigo.cabral\\\\PycharmProjects\\\\Desafio\\\\WithorWithoutMask\\\\data\\\\faces\\\\Obina\\\\rotate-WhatsApp Image 2022-05-15 at 15.29.07 (1).jpeg',\n",
       " 'C:\\\\Users\\\\rodrigo.cabral\\\\PycharmProjects\\\\Desafio\\\\WithorWithoutMask\\\\data\\\\faces\\\\Obina\\\\rotate-WhatsApp Image 2022-05-15 at 15.29.07.jpeg',\n",
       " 'C:\\\\Users\\\\rodrigo.cabral\\\\PycharmProjects\\\\Desafio\\\\WithorWithoutMask\\\\data\\\\faces\\\\Obina\\\\rotate-WhatsApp Image 2022-05-15 at 15.29.28 (1).jpeg',\n",
       " 'C:\\\\Users\\\\rodrigo.cabral\\\\PycharmProjects\\\\Desafio\\\\WithorWithoutMask\\\\data\\\\faces\\\\Obina\\\\rotate-WhatsApp Image 2022-05-15 at 15.29.28 (2).jpeg',\n",
       " 'C:\\\\Users\\\\rodrigo.cabral\\\\PycharmProjects\\\\Desafio\\\\WithorWithoutMask\\\\data\\\\faces\\\\Obina\\\\rotate-WhatsApp Image 2022-05-15 at 15.29.28.jpeg',\n",
       " 'C:\\\\Users\\\\rodrigo.cabral\\\\PycharmProjects\\\\Desafio\\\\WithorWithoutMask\\\\data\\\\faces\\\\Obina\\\\rotate-WhatsApp Image 2022-05-15 at 15.29.29.jpeg',\n",
       " 'C:\\\\Users\\\\rodrigo.cabral\\\\PycharmProjects\\\\Desafio\\\\WithorWithoutMask\\\\data\\\\faces\\\\Obina\\\\rotate-WhatsApp Image 2022-05-15 at 15.29.39.jpeg',\n",
       " 'C:\\\\Users\\\\rodrigo.cabral\\\\PycharmProjects\\\\Desafio\\\\WithorWithoutMask\\\\data\\\\faces\\\\Obina\\\\WhatsApp Image 2022-05-15 at 15.28.24.jpeg',\n",
       " 'C:\\\\Users\\\\rodrigo.cabral\\\\PycharmProjects\\\\Desafio\\\\WithorWithoutMask\\\\data\\\\faces\\\\Obina\\\\WhatsApp Image 2022-05-15 at 15.29.06.jpeg',\n",
       " 'C:\\\\Users\\\\rodrigo.cabral\\\\PycharmProjects\\\\Desafio\\\\WithorWithoutMask\\\\data\\\\faces\\\\Obina\\\\WhatsApp Image 2022-05-15 at 15.29.07 (1).jpeg',\n",
       " 'C:\\\\Users\\\\rodrigo.cabral\\\\PycharmProjects\\\\Desafio\\\\WithorWithoutMask\\\\data\\\\faces\\\\Obina\\\\WhatsApp Image 2022-05-15 at 15.29.07.jpeg',\n",
       " 'C:\\\\Users\\\\rodrigo.cabral\\\\PycharmProjects\\\\Desafio\\\\WithorWithoutMask\\\\data\\\\faces\\\\Obina\\\\WhatsApp Image 2022-05-15 at 15.29.28 (1).jpeg',\n",
       " 'C:\\\\Users\\\\rodrigo.cabral\\\\PycharmProjects\\\\Desafio\\\\WithorWithoutMask\\\\data\\\\faces\\\\Obina\\\\WhatsApp Image 2022-05-15 at 15.29.28 (2).jpeg',\n",
       " 'C:\\\\Users\\\\rodrigo.cabral\\\\PycharmProjects\\\\Desafio\\\\WithorWithoutMask\\\\data\\\\faces\\\\Obina\\\\WhatsApp Image 2022-05-15 at 15.29.28.jpeg',\n",
       " 'C:\\\\Users\\\\rodrigo.cabral\\\\PycharmProjects\\\\Desafio\\\\WithorWithoutMask\\\\data\\\\faces\\\\Obina\\\\WhatsApp Image 2022-05-15 at 15.29.29.jpeg',\n",
       " 'C:\\\\Users\\\\rodrigo.cabral\\\\PycharmProjects\\\\Desafio\\\\WithorWithoutMask\\\\data\\\\faces\\\\Obina\\\\WhatsApp Image 2022-05-15 at 15.29.39.jpeg',\n",
       " 'C:\\\\Users\\\\rodrigo.cabral\\\\PycharmProjects\\\\Desafio\\\\WithorWithoutMask\\\\data\\\\faces\\\\Sr_Rodrigo\\\\flip-foto1.jpg',\n",
       " 'C:\\\\Users\\\\rodrigo.cabral\\\\PycharmProjects\\\\Desafio\\\\WithorWithoutMask\\\\data\\\\faces\\\\Sr_Rodrigo\\\\flip-foto2.jpg',\n",
       " 'C:\\\\Users\\\\rodrigo.cabral\\\\PycharmProjects\\\\Desafio\\\\WithorWithoutMask\\\\data\\\\faces\\\\Sr_Rodrigo\\\\flip-foto3.jpg',\n",
       " 'C:\\\\Users\\\\rodrigo.cabral\\\\PycharmProjects\\\\Desafio\\\\WithorWithoutMask\\\\data\\\\faces\\\\Sr_Rodrigo\\\\flip-foto4.jpg',\n",
       " 'C:\\\\Users\\\\rodrigo.cabral\\\\PycharmProjects\\\\Desafio\\\\WithorWithoutMask\\\\data\\\\faces\\\\Sr_Rodrigo\\\\flip-foto5.jpg',\n",
       " 'C:\\\\Users\\\\rodrigo.cabral\\\\PycharmProjects\\\\Desafio\\\\WithorWithoutMask\\\\data\\\\faces\\\\Sr_Rodrigo\\\\flip-foto6.jpg',\n",
       " 'C:\\\\Users\\\\rodrigo.cabral\\\\PycharmProjects\\\\Desafio\\\\WithorWithoutMask\\\\data\\\\faces\\\\Sr_Rodrigo\\\\flip-foto7.jpg',\n",
       " 'C:\\\\Users\\\\rodrigo.cabral\\\\PycharmProjects\\\\Desafio\\\\WithorWithoutMask\\\\data\\\\faces\\\\Sr_Rodrigo\\\\flip-foto8.jpg',\n",
       " 'C:\\\\Users\\\\rodrigo.cabral\\\\PycharmProjects\\\\Desafio\\\\WithorWithoutMask\\\\data\\\\faces\\\\Sr_Rodrigo\\\\foto1.jpg',\n",
       " 'C:\\\\Users\\\\rodrigo.cabral\\\\PycharmProjects\\\\Desafio\\\\WithorWithoutMask\\\\data\\\\faces\\\\Sr_Rodrigo\\\\foto2.jpg',\n",
       " 'C:\\\\Users\\\\rodrigo.cabral\\\\PycharmProjects\\\\Desafio\\\\WithorWithoutMask\\\\data\\\\faces\\\\Sr_Rodrigo\\\\foto3.jpg',\n",
       " 'C:\\\\Users\\\\rodrigo.cabral\\\\PycharmProjects\\\\Desafio\\\\WithorWithoutMask\\\\data\\\\faces\\\\Sr_Rodrigo\\\\foto4.jpg',\n",
       " 'C:\\\\Users\\\\rodrigo.cabral\\\\PycharmProjects\\\\Desafio\\\\WithorWithoutMask\\\\data\\\\faces\\\\Sr_Rodrigo\\\\foto5.jpg',\n",
       " 'C:\\\\Users\\\\rodrigo.cabral\\\\PycharmProjects\\\\Desafio\\\\WithorWithoutMask\\\\data\\\\faces\\\\Sr_Rodrigo\\\\foto6.jpg',\n",
       " 'C:\\\\Users\\\\rodrigo.cabral\\\\PycharmProjects\\\\Desafio\\\\WithorWithoutMask\\\\data\\\\faces\\\\Sr_Rodrigo\\\\foto7.jpg',\n",
       " 'C:\\\\Users\\\\rodrigo.cabral\\\\PycharmProjects\\\\Desafio\\\\WithorWithoutMask\\\\data\\\\faces\\\\Sr_Rodrigo\\\\foto8.jpg',\n",
       " 'C:\\\\Users\\\\rodrigo.cabral\\\\PycharmProjects\\\\Desafio\\\\WithorWithoutMask\\\\data\\\\faces\\\\Sr_Rodrigo\\\\rotate-foto1.jpg',\n",
       " 'C:\\\\Users\\\\rodrigo.cabral\\\\PycharmProjects\\\\Desafio\\\\WithorWithoutMask\\\\data\\\\faces\\\\Sr_Rodrigo\\\\rotate-foto2.jpg',\n",
       " 'C:\\\\Users\\\\rodrigo.cabral\\\\PycharmProjects\\\\Desafio\\\\WithorWithoutMask\\\\data\\\\faces\\\\Sr_Rodrigo\\\\rotate-foto3.jpg',\n",
       " 'C:\\\\Users\\\\rodrigo.cabral\\\\PycharmProjects\\\\Desafio\\\\WithorWithoutMask\\\\data\\\\faces\\\\Sr_Rodrigo\\\\rotate-foto4.jpg',\n",
       " 'C:\\\\Users\\\\rodrigo.cabral\\\\PycharmProjects\\\\Desafio\\\\WithorWithoutMask\\\\data\\\\faces\\\\Sr_Rodrigo\\\\rotate-foto5.jpg',\n",
       " 'C:\\\\Users\\\\rodrigo.cabral\\\\PycharmProjects\\\\Desafio\\\\WithorWithoutMask\\\\data\\\\faces\\\\Sr_Rodrigo\\\\rotate-foto6.jpg',\n",
       " 'C:\\\\Users\\\\rodrigo.cabral\\\\PycharmProjects\\\\Desafio\\\\WithorWithoutMask\\\\data\\\\faces\\\\Sr_Rodrigo\\\\rotate-foto7.jpg',\n",
       " 'C:\\\\Users\\\\rodrigo.cabral\\\\PycharmProjects\\\\Desafio\\\\WithorWithoutMask\\\\data\\\\faces\\\\Sr_Rodrigo\\\\rotate-foto8.jpg']"
      ]
     },
     "execution_count": 19,
     "metadata": {},
     "output_type": "execute_result"
    }
   ],
   "source": [
    "montar_nome('../../data/faces/')[1]"
   ]
  },
  {
   "cell_type": "code",
   "execution_count": 20,
   "id": "7e85ae46",
   "metadata": {},
   "outputs": [
    {
     "data": {
      "text/plain": [
       "[]"
      ]
     },
     "execution_count": 20,
     "metadata": {},
     "output_type": "execute_result"
    }
   ],
   "source": [
    "selecionar_classe(montar_nome('../../data/faces/')[1])"
   ]
  },
  {
   "cell_type": "code",
   "execution_count": null,
   "id": "d9bb2e42",
   "metadata": {},
   "outputs": [],
   "source": []
  }
 ],
 "metadata": {
  "kernelspec": {
   "display_name": "Python 3 (ipykernel)",
   "language": "python",
   "name": "python3"
  },
  "language_info": {
   "codemirror_mode": {
    "name": "ipython",
    "version": 3
   },
   "file_extension": ".py",
   "mimetype": "text/x-python",
   "name": "python",
   "nbconvert_exporter": "python",
   "pygments_lexer": "ipython3",
   "version": "3.10.0"
  }
 },
 "nbformat": 4,
 "nbformat_minor": 5
}
