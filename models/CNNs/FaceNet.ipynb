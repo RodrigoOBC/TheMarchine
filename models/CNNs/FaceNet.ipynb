{
 "cells": [
  {
   "cell_type": "code",
   "execution_count": 25,
   "id": "fd02269f",
   "metadata": {},
   "outputs": [],
   "source": [
    "from PIL import Image\n",
    "from os import listdir\n",
    "from os.path import isdir\n",
    "from numpy import asarray, expand_dims\n",
    "import numpy as np\n",
    "import pandas as pd\n",
    "import os"
   ]
  },
  {
   "cell_type": "code",
   "execution_count": 2,
   "id": "181827ec",
   "metadata": {},
   "outputs": [],
   "source": [
    "def load_face(filename):\n",
    "    img = Image.open(filename)\n",
    "    img = img.convert(\"RGB\")\n",
    "    \n",
    "    return asarray(img)"
   ]
  },
  {
   "cell_type": "code",
   "execution_count": 20,
   "id": "0e16d6a4",
   "metadata": {},
   "outputs": [],
   "source": [
    "def montar_nome(path):\n",
    "    nome_file = []\n",
    "    file_path = []\n",
    "    x = 0\n",
    "    for p, _, files in os.walk(os.path.abspath(path)):\n",
    "        for file_name in files:\n",
    "            nome_file.append(file_name)\n",
    "            file_path.append(rf'{p}\\{file_name}')\n",
    "    return file_path"
   ]
  },
  {
   "cell_type": "code",
   "execution_count": 21,
   "id": "f84825f1",
   "metadata": {},
   "outputs": [],
   "source": [
    "def pegar_classe(file_path):\n",
    "    tipo = []\n",
    "    for path in file_path:\n",
    "        if 'Sr_Rodrigo' in path:\n",
    "            tipo.append('Rodrigo')\n",
    "        if 'Obina' in path:\n",
    "            tipo.append('Obina')\n",
    "    return tipo\n"
   ]
  },
  {
   "cell_type": "code",
   "execution_count": 22,
   "id": "7e85ae46",
   "metadata": {},
   "outputs": [],
   "source": [
    "def montar_data_frame(path):\n",
    "    file_path = montar_nome(path)\n",
    "    classes = pegar_classe(file_path)\n",
    "    data = {'Filepath': file_path, 'classes': pegar_classe}\n",
    "    df = pd.DataFrame.from_dict(data, orient='index')\n",
    "    df = df.transpose()\n",
    "    return df"
   ]
  },
  {
   "cell_type": "code",
   "execution_count": 29,
   "id": "d9bb2e42",
   "metadata": {},
   "outputs": [
    {
     "data": {
      "text/plain": [
       "51"
      ]
     },
     "execution_count": 29,
     "metadata": {},
     "output_type": "execute_result"
    }
   ],
   "source": [
    "len(montar_nome('../../data/faces'))"
   ]
  },
  {
   "cell_type": "code",
   "execution_count": 31,
   "id": "103bd362",
   "metadata": {},
   "outputs": [
    {
     "data": {
      "text/plain": [
       "['Obina',\n",
       " 'Obina',\n",
       " 'Obina',\n",
       " 'Obina',\n",
       " 'Obina',\n",
       " 'Obina',\n",
       " 'Obina',\n",
       " 'Obina',\n",
       " 'Obina',\n",
       " 'Obina',\n",
       " 'Obina',\n",
       " 'Obina',\n",
       " 'Obina',\n",
       " 'Obina',\n",
       " 'Obina',\n",
       " 'Obina',\n",
       " 'Obina',\n",
       " 'Obina',\n",
       " 'Obina',\n",
       " 'Obina',\n",
       " 'Obina',\n",
       " 'Obina',\n",
       " 'Obina',\n",
       " 'Obina',\n",
       " 'Obina',\n",
       " 'Obina',\n",
       " 'Obina',\n",
       " 'Rodrigo',\n",
       " 'Rodrigo',\n",
       " 'Rodrigo',\n",
       " 'Rodrigo',\n",
       " 'Rodrigo',\n",
       " 'Rodrigo',\n",
       " 'Rodrigo',\n",
       " 'Rodrigo',\n",
       " 'Rodrigo',\n",
       " 'Rodrigo',\n",
       " 'Rodrigo',\n",
       " 'Rodrigo',\n",
       " 'Rodrigo',\n",
       " 'Rodrigo',\n",
       " 'Rodrigo',\n",
       " 'Rodrigo',\n",
       " 'Rodrigo',\n",
       " 'Rodrigo',\n",
       " 'Rodrigo',\n",
       " 'Rodrigo',\n",
       " 'Rodrigo',\n",
       " 'Rodrigo',\n",
       " 'Rodrigo',\n",
       " 'Rodrigo']"
      ]
     },
     "execution_count": 31,
     "metadata": {},
     "output_type": "execute_result"
    }
   ],
   "source": [
    "len(pegar_classe(montar_nome('../../data/faces'))"
   ]
  },
  {
   "cell_type": "code",
   "execution_count": null,
   "id": "31df0ea2",
   "metadata": {},
   "outputs": [],
   "source": []
  }
 ],
 "metadata": {
  "kernelspec": {
   "display_name": "Python 3 (ipykernel)",
   "language": "python",
   "name": "python3"
  },
  "language_info": {
   "codemirror_mode": {
    "name": "ipython",
    "version": 3
   },
   "file_extension": ".py",
   "mimetype": "text/x-python",
   "name": "python",
   "nbconvert_exporter": "python",
   "pygments_lexer": "ipython3",
   "version": "3.10.0"
  }
 },
 "nbformat": 4,
 "nbformat_minor": 5
}
