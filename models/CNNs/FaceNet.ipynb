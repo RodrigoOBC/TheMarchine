{
 "cells": [
  {
   "cell_type": "code",
   "execution_count": 6,
   "id": "fd02269f",
   "metadata": {},
   "outputs": [],
   "source": [
    "from PIL import Image\n",
    "from os import listdir\n",
    "from os.path import isdir\n",
    "from numpy import asarray, expand_dims\n",
    "import numpy as np\n",
    "import pandas as pd\n",
    "import os"
   ]
  },
  {
   "cell_type": "code",
   "execution_count": 13,
   "id": "181827ec",
   "metadata": {},
   "outputs": [],
   "source": [
    "def load_face(filename):\n",
    "    img = Image.open(filename)\n",
    "    img = img.convert(\"RGB\")\n",
    "\n",
    "    return asarray(img)\n",
    "\n",
    "\n",
    "def load_faces(directory_src):\n",
    "    faces = []\n",
    "\n",
    "    for filename in listdir(directory_src):\n",
    "        path = directory_src + filename\n",
    "\n",
    "        faces.append(load_face(path))\n",
    "\n",
    "    return faces\n",
    "\n",
    "\n",
    "def load_fotos(directory_src):\n",
    "    x, y = [], []\n",
    "\n",
    "    for subidir in listdir(directory_src):\n",
    "\n",
    "        path = directory_src + subidir + r'/'\n",
    "\n",
    "        if not isdir(path):\n",
    "            continue\n",
    "\n",
    "        faces = load_faces(path)\n",
    "\n",
    "        labels = [subidir for _ in range(len(faces))]\n",
    "\n",
    "        x.extend(faces)\n",
    "        y.extend(labels)\n",
    "\n",
    "    return asarray(x), asarray(y)\n"
   ]
  },
  {
   "cell_type": "code",
   "execution_count": 14,
   "id": "96727b03",
   "metadata": {},
   "outputs": [],
   "source": [
    "trainx, trainy = load_fotos('../../data/faces/')"
   ]
  },
  {
   "cell_type": "code",
   "execution_count": 15,
   "id": "dc95affa",
   "metadata": {},
   "outputs": [
    {
     "data": {
      "text/plain": [
       "array(['Obina', 'Obina', 'Obina', 'Obina', 'Obina', 'Obina', 'Obina',\n",
       "       'Obina', 'Obina', 'Obina', 'Obina', 'Obina', 'Obina', 'Obina',\n",
       "       'Obina', 'Obina', 'Obina', 'Obina', 'Obina', 'Obina', 'Obina',\n",
       "       'Obina', 'Obina', 'Obina', 'Obina', 'Obina', 'Obina', 'Sr_Rodrigo',\n",
       "       'Sr_Rodrigo', 'Sr_Rodrigo', 'Sr_Rodrigo', 'Sr_Rodrigo',\n",
       "       'Sr_Rodrigo', 'Sr_Rodrigo', 'Sr_Rodrigo', 'Sr_Rodrigo',\n",
       "       'Sr_Rodrigo', 'Sr_Rodrigo', 'Sr_Rodrigo', 'Sr_Rodrigo',\n",
       "       'Sr_Rodrigo', 'Sr_Rodrigo', 'Sr_Rodrigo', 'Sr_Rodrigo',\n",
       "       'Sr_Rodrigo', 'Sr_Rodrigo', 'Sr_Rodrigo', 'Sr_Rodrigo',\n",
       "       'Sr_Rodrigo', 'Sr_Rodrigo', 'Sr_Rodrigo'], dtype='<U10')"
      ]
     },
     "execution_count": 15,
     "metadata": {},
     "output_type": "execute_result"
    }
   ],
   "source": [
    "trainy"
   ]
  },
  {
   "cell_type": "code",
   "execution_count": 16,
   "id": "a60ac19d",
   "metadata": {},
   "outputs": [
    {
     "data": {
      "text/plain": [
       "array([], dtype=float64)"
      ]
     },
     "execution_count": 16,
     "metadata": {},
     "output_type": "execute_result"
    }
   ],
   "source": []
  },
  {
   "cell_type": "code",
   "execution_count": null,
   "id": "6ce84856",
   "metadata": {},
   "outputs": [],
   "source": []
  }
 ],
 "metadata": {
  "kernelspec": {
   "display_name": "Python 3 (ipykernel)",
   "language": "python",
   "name": "python3"
  },
  "language_info": {
   "codemirror_mode": {
    "name": "ipython",
    "version": 3
   },
   "file_extension": ".py",
   "mimetype": "text/x-python",
   "name": "python",
   "nbconvert_exporter": "python",
   "pygments_lexer": "ipython3",
   "version": "3.10.0"
  }
 },
 "nbformat": 4,
 "nbformat_minor": 5
}
